{
 "cells": [
  {
   "cell_type": "code",
   "execution_count": null,
   "id": "5514c41b-15f6-457b-b2f3-0a4552062f4f",
   "metadata": {},
   "outputs": [],
   "source": [
    "# Q1 What is exception in python? Write the diffrence between exception & syntax errors\n"
   ]
  },
  {
   "cell_type": "code",
   "execution_count": null,
   "id": "44f7ae7f-607b-4df9-9ba0-b08fa5ea0e2d",
   "metadata": {},
   "outputs": [],
   "source": [
    "# Exceptions happen during execution of the program that changes the normal flow of the program.\n",
    "# symtax error takes lace when code is not written properly"
   ]
  },
  {
   "cell_type": "code",
   "execution_count": null,
   "id": "d567d382-9af6-4508-b0cf-606b5b5a1278",
   "metadata": {},
   "outputs": [],
   "source": [
    "#Q2 What happens when an exception is not handled? explain with an example"
   ]
  },
  {
   "cell_type": "code",
   "execution_count": null,
   "id": "940ff085-7c45-4cd6-8001-5435df1d5b29",
   "metadata": {},
   "outputs": [],
   "source": [
    "# When exeption error happens the program will stop executing"
   ]
  },
  {
   "cell_type": "code",
   "execution_count": 7,
   "id": "1c0510e0-3f6c-46e1-ac0f-a4819a27da59",
   "metadata": {},
   "outputs": [
    {
     "name": "stdout",
     "output_type": "stream",
     "text": [
      "e\n"
     ]
    }
   ],
   "source": [
    "try :\n",
    "    a = 10/0\n",
    "except ZeroDivisionError as e :\n",
    "    print('e')    \n",
    "    \n"
   ]
  },
  {
   "cell_type": "code",
   "execution_count": 12,
   "id": "422ca2b9-628f-4fad-9ec5-1429ee927bf3",
   "metadata": {},
   "outputs": [
    {
     "ename": "ZeroDivisionError",
     "evalue": "division by zero",
     "output_type": "error",
     "traceback": [
      "\u001b[0;31m---------------------------------------------------------------------------\u001b[0m",
      "\u001b[0;31mZeroDivisionError\u001b[0m                         Traceback (most recent call last)",
      "Cell \u001b[0;32mIn[12], line 4\u001b[0m\n\u001b[1;32m      1\u001b[0m \u001b[38;5;28;01mdef\u001b[39;00m \u001b[38;5;21mdivide\u001b[39m(x, y):\n\u001b[1;32m      2\u001b[0m     \u001b[38;5;28;01mreturn\u001b[39;00m x \u001b[38;5;241m/\u001b[39m y\n\u001b[0;32m----> 4\u001b[0m result \u001b[38;5;241m=\u001b[39m \u001b[43mdivide\u001b[49m\u001b[43m(\u001b[49m\u001b[38;5;241;43m10\u001b[39;49m\u001b[43m,\u001b[49m\u001b[43m \u001b[49m\u001b[38;5;241;43m0\u001b[39;49m\u001b[43m)\u001b[49m\n\u001b[1;32m      5\u001b[0m \u001b[38;5;28mprint\u001b[39m(result)\n",
      "Cell \u001b[0;32mIn[12], line 2\u001b[0m, in \u001b[0;36mdivide\u001b[0;34m(x, y)\u001b[0m\n\u001b[1;32m      1\u001b[0m \u001b[38;5;28;01mdef\u001b[39;00m \u001b[38;5;21mdivide\u001b[39m(x, y):\n\u001b[0;32m----> 2\u001b[0m     \u001b[38;5;28;01mreturn\u001b[39;00m \u001b[43mx\u001b[49m\u001b[43m \u001b[49m\u001b[38;5;241;43m/\u001b[39;49m\u001b[43m \u001b[49m\u001b[43my\u001b[49m\n",
      "\u001b[0;31mZeroDivisionError\u001b[0m: division by zero"
     ]
    }
   ],
   "source": [
    "def divide(x, y):\n",
    "    return x / y\n",
    "\n",
    "result = divide(10, 0)\n",
    "print(result)"
   ]
  },
  {
   "cell_type": "code",
   "execution_count": null,
   "id": "056ffbdb-02e1-4494-b91f-8777f90654df",
   "metadata": {},
   "outputs": [],
   "source": [
    "#Q3 which python statements are used to try and handle exceptions? explain with an example"
   ]
  },
  {
   "cell_type": "code",
   "execution_count": null,
   "id": "16db68a3-969b-4d41-bbbe-a19823115fe7",
   "metadata": {},
   "outputs": [],
   "source": [
    "Try and except are used to handle exceptions"
   ]
  },
  {
   "cell_type": "code",
   "execution_count": 16,
   "id": "c923a7e9-1094-4df3-b76f-4129fb19a3de",
   "metadata": {},
   "outputs": [
    {
     "ename": "SyntaxError",
     "evalue": "invalid syntax (2868918316.py, line 3)",
     "output_type": "error",
     "traceback": [
      "\u001b[0;36m  Cell \u001b[0;32mIn[16], line 3\u001b[0;36m\u001b[0m\n\u001b[0;31m    except ZeroDivisionError:\u001b[0m\n\u001b[0m    ^\u001b[0m\n\u001b[0;31mSyntaxError\u001b[0m\u001b[0;31m:\u001b[0m invalid syntax\n"
     ]
    }
   ],
   "source": [
    "try:\n",
    "    a = 10/0\n",
    "    except ZeroDivisionError:\n",
    "    print(\"division by Zero\")\n",
    "    else:\n",
    "        print (\"division was successful\")"
   ]
  },
  {
   "cell_type": "code",
   "execution_count": 21,
   "id": "1a387eaa-dd68-4f96-8bee-3a9b42956a4e",
   "metadata": {},
   "outputs": [
    {
     "name": "stdout",
     "output_type": "stream",
     "text": [
      "e\n"
     ]
    }
   ],
   "source": [
    "try :\n",
    "    a = 10/0\n",
    "except ZeroDivisionError as e :\n",
    "    print('e')    \n",
    "    "
   ]
  },
  {
   "cell_type": "code",
   "execution_count": null,
   "id": "d41cf92d-a2b7-4c54-8c7b-4d686e73e0b7",
   "metadata": {},
   "outputs": [],
   "source": [
    "# Explain with and eg\n",
    "#Try & Else\n",
    "#finally\n",
    "#raise"
   ]
  },
  {
   "cell_type": "code",
   "execution_count": 5,
   "id": "706edfd5-acbb-44a2-b93a-00aedd58dd0e",
   "metadata": {},
   "outputs": [
    {
     "name": "stdin",
     "output_type": "stream",
     "text": [
      "Enter a number:  -10\n"
     ]
    },
    {
     "name": "stdout",
     "output_type": "stream",
     "text": [
      "Negative numbers are not allowed\n",
      "The eg is shown\n"
     ]
    }
   ],
   "source": [
    "try:\n",
    "    x = int(input(\"Enter a number: \"))\n",
    "    if x < 0:\n",
    "        raise ValueError(\"Negative numbers are not allowed\")\n",
    "except ValueError as e:\n",
    "    print(e)\n",
    "else:\n",
    "    print(\"Number is correct\")\n",
    "finally:\n",
    "    print(\"The eg is shown\")"
   ]
  },
  {
   "cell_type": "code",
   "execution_count": null,
   "id": "ddb8443b-eada-4100-a3ee-e49cd28bf339",
   "metadata": {},
   "outputs": [],
   "source": [
    "# What is Custom Exceptions in phython? Why do we need custom Exception. Explain with an eg\n"
   ]
  },
  {
   "cell_type": "code",
   "execution_count": null,
   "id": "261dc7d4-edce-4b59-8663-ed19c1afdf17",
   "metadata": {},
   "outputs": [],
   "source": [
    "#Custom Exception is one which is not in the library of phython but we make out own excption.\n",
    "# we need custom exception to raise exception specific type of exception in the librabry of exception."
   ]
  },
  {
   "cell_type": "code",
   "execution_count": null,
   "id": "d9cc04de-df54-49c4-94e9-0418c953f06d",
   "metadata": {},
   "outputs": [],
   "source": []
  },
  {
   "cell_type": "code",
   "execution_count": 6,
   "id": "2f14203a-7584-4471-b74c-b76c7205c603",
   "metadata": {},
   "outputs": [],
   "source": [
    "class validateage(Exception):\n",
    "    \n",
    "    def __init__(self , msg) : \n",
    "        self.msg = msg"
   ]
  },
  {
   "cell_type": "code",
   "execution_count": 7,
   "id": "ae2339b6-6d44-4804-a3f0-51ffbc9a4ea4",
   "metadata": {},
   "outputs": [],
   "source": [
    "def validaetage(age) : \n",
    "    if age < 0 :\n",
    "        raise validateage(\"entered age is negative \" )\n",
    "    elif age > 200 : \n",
    "        raise validateage(\"enterd age is very very high \" )\n",
    "    else :\n",
    "        print(\"age is valid\" )"
   ]
  },
  {
   "cell_type": "code",
   "execution_count": 9,
   "id": "a3d657f6-3554-4868-b387-352d436e5f99",
   "metadata": {},
   "outputs": [
    {
     "name": "stdin",
     "output_type": "stream",
     "text": [
      "enter your age 250\n"
     ]
    },
    {
     "name": "stdout",
     "output_type": "stream",
     "text": [
      "enterd age is very very high \n"
     ]
    }
   ],
   "source": [
    "try :\n",
    "    age = int(input(\"enter your age\" ))\n",
    "    validaetage(age)\n",
    "except validateage as e :\n",
    "    print(e)"
   ]
  },
  {
   "cell_type": "code",
   "execution_count": null,
   "id": "058a787a-5464-44da-a36d-14306a306e05",
   "metadata": {},
   "outputs": [],
   "source": [
    "\"Create a Custom Exception class use this class to handle an exception\n"
   ]
  },
  {
   "cell_type": "code",
   "execution_count": 11,
   "id": "0250e562-5de0-4b13-a7d8-5bd44b061f54",
   "metadata": {},
   "outputs": [
    {
     "name": "stdin",
     "output_type": "stream",
     "text": [
      "enter your age -25\n"
     ]
    },
    {
     "name": "stdout",
     "output_type": "stream",
     "text": [
      "entered age is negative \n"
     ]
    }
   ],
   "source": [
    "class validateage(Exception):\n",
    "    \n",
    "    def __init__(self , msg) : \n",
    "        self.msg = msg\n",
    "def validaetage(age) : \n",
    "    if age < 0 :\n",
    "        raise validateage(\"entered age is negative \" )\n",
    "    elif age > 200 : \n",
    "        raise validateage(\"enterd age is very very high \" )\n",
    "    else :\n",
    "        print(\"age is valid\" )\n",
    "try :\n",
    "    age = int(input(\"enter your age\" ))\n",
    "    validaetage(age)\n",
    "except validateage as e :\n",
    "    print(e)"
   ]
  },
  {
   "cell_type": "code",
   "execution_count": null,
   "id": "57d614af-f5de-49fe-93f2-41755ad1c9b2",
   "metadata": {},
   "outputs": [],
   "source": []
  }
 ],
 "metadata": {
  "kernelspec": {
   "display_name": "Python 3 (ipykernel)",
   "language": "python",
   "name": "python3"
  },
  "language_info": {
   "codemirror_mode": {
    "name": "ipython",
    "version": 3
   },
   "file_extension": ".py",
   "mimetype": "text/x-python",
   "name": "python",
   "nbconvert_exporter": "python",
   "pygments_lexer": "ipython3",
   "version": "3.10.8"
  }
 },
 "nbformat": 4,
 "nbformat_minor": 5
}
